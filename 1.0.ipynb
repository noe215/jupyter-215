{
 "cells": [
  {
   "cell_type": "markdown",
   "metadata": {},
   "source": [
    "# 1.0 - Programming Essentials\n",
    "\n",
    "    CE215 - Civil Engineering Analysis and Design\n",
    "    Dr. Michael Lowry and Walker Noe\n",
    "    University of Idaho"
   ]
  },
  {
   "cell_type": "markdown",
   "metadata": {},
   "source": [
    "## Lesson objectives\n",
    "\n",
    "After this lesson, you will be able to list the basics of programming."
   ]
  },
  {
   "cell_type": "markdown",
   "metadata": {},
   "source": [
    "### Why Python?\n",
    "\n",
    "https://spectrum.ieee.org/static/interactive-the-top-programming-languages-2017 <br>\n",
    "There are lots of programming languages.  The first modern one is called \"C\". <br>"
   ]
  },
  {
   "cell_type": "markdown",
   "metadata": {},
   "source": [
    "### Programming Methods\n",
    "\n",
    "    Procedural programming - follows a procedure (routine or script)\n",
    "    Functional programming - can use functions\n",
    "    Declarative programming – for querying databases, like SQL\n",
    "    Object-oriented programming – C# <br>\n",
    "\n",
    "The developer of Python wanted a language that was easy to read and could be used in all these methods, and wrote a tutorial for Python. He now works for Dropbox. The tutorial is not especially readable because he is a computer science guy, but in the end it is the best source. \n",
    "\n",
    "Tutorial:\n",
    "\n",
    "https://docs.python.org/3.6/tutorial/index.html"
   ]
  },
  {
   "cell_type": "markdown",
   "metadata": {},
   "source": [
    "### Integrated Development Environment (IDE)\n",
    "\n",
    "    PyCharm\n",
    "    IDLE\n",
    "    PyDev\n",
    "    Spyder\n",
    "\n",
    "*insert explanation for what IDE is*"
   ]
  },
  {
   "cell_type": "markdown",
   "metadata": {},
   "source": [
    "### Programming Essentials\n",
    "    Comments\n",
    "    Data Types\n",
    "    Variable Declaration\n",
    "    Functions\n",
    "    If Statements (Boolean Logic)\n",
    "    For Loops and While Loops\n",
    "    Input/Output\n",
    "\n",
    "#### Comments\n",
    "\n",
    "Comments are used to explain code, add notes, etc. Comments do not carry over across lines of code, so if the user has a long comment spanning multiple lines, each line must be turned into a separate comment. To create a comment in Python, there are 3 options. The first is placing the comment in single quotes."
   ]
  },
  {
   "cell_type": "code",
   "execution_count": 1,
   "metadata": {},
   "outputs": [
    {
     "data": {
      "text/plain": [
       "'This is a comment'"
      ]
     },
     "execution_count": 1,
     "metadata": {},
     "output_type": "execute_result"
    }
   ],
   "source": [
    "'This is a comment'"
   ]
  },
  {
   "cell_type": "markdown",
   "metadata": {},
   "source": [
    "The second option is placing the comment in double quotes."
   ]
  },
  {
   "cell_type": "code",
   "execution_count": 2,
   "metadata": {},
   "outputs": [
    {
     "data": {
      "text/plain": [
       "'This is a comment'"
      ]
     },
     "execution_count": 2,
     "metadata": {},
     "output_type": "execute_result"
    }
   ],
   "source": [
    "\"This is a comment\""
   ]
  },
  {
   "cell_type": "markdown",
   "metadata": {},
   "source": [
    "The last option is placing the comment after a '#' sign."
   ]
  },
  {
   "cell_type": "code",
   "execution_count": 3,
   "metadata": {},
   "outputs": [],
   "source": [
    "# This is a comment"
   ]
  },
  {
   "cell_type": "markdown",
   "metadata": {},
   "source": [
    "#### Data Types\n",
    "\n",
    "##### Number\n",
    "\n",
    "Numbers can either be integers or floats.  As you know, an integer is a counting number.  For our uses, a float is any number with a decimal point."
   ]
  },
  {
   "cell_type": "code",
   "execution_count": 4,
   "metadata": {},
   "outputs": [
    {
     "name": "stdout",
     "output_type": "stream",
     "text": [
      "17.6\n",
      "101.45\n"
     ]
    }
   ],
   "source": [
    "a = 5\n",
    "b = 12.6\n",
    "\n",
    "result = a + b\n",
    "\n",
    "print(result)\n",
    "\n",
    "# Number\n",
    "first_number = 45 # integer\n",
    "second_number = 56.45 # float\n",
    "\n",
    "result2 = first_number + second_number\n",
    "\n",
    "print(result2)"
   ]
  },
  {
   "cell_type": "code",
   "execution_count": 5,
   "metadata": {},
   "outputs": [
    {
     "name": "stdout",
     "output_type": "stream",
     "text": [
      "2.52\n"
     ]
    }
   ],
   "source": [
    "c = b/a\n",
    "print(c)"
   ]
  },
  {
   "cell_type": "markdown",
   "metadata": {},
   "source": [
    "##### String (text)\n",
    "\n",
    "A string is any text.  When using strings be sure to write your text as a comment inside of quotes or double quotes."
   ]
  },
  {
   "cell_type": "code",
   "execution_count": 6,
   "metadata": {},
   "outputs": [
    {
     "name": "stdout",
     "output_type": "stream",
     "text": [
      "Mike\n"
     ]
    }
   ],
   "source": [
    "# String\n",
    "student_1 = \"Mike\"\n",
    "student_2 = 'Walker'\n",
    "\n",
    "print(student_1)"
   ]
  },
  {
   "cell_type": "markdown",
   "metadata": {},
   "source": [
    "##### List\n",
    "\n",
    "Lists are shown in square brackets. Lists are mutable, meaning that these objects are capable of supporting additional operations performed after the list is created. Lists are homogeneous, meaning that these sequence types deal with the similar or same kinds of things. "
   ]
  },
  {
   "cell_type": "code",
   "execution_count": 7,
   "metadata": {},
   "outputs": [
    {
     "name": "stdout",
     "output_type": "stream",
     "text": [
      "[12, 14, 45]\n",
      "14\n"
     ]
    }
   ],
   "source": [
    "values = [12, 14, 45]\n",
    "\n",
    "print(values)\n",
    "print(values[1])"
   ]
  },
  {
   "cell_type": "markdown",
   "metadata": {},
   "source": [
    "##### Tuple\n",
    "\n",
    "Tuples are shown in parentheses. Tuples are immutable, meaning that these objects are not capable of supporting additional operations performed and cannot be modified after the tuple set is created. Tuples are heterogeneous, meaning that these sequence types deal with varied and different types of data, or the entries have separate meanings.  A tuple is considered a coherent unit. "
   ]
  },
  {
   "cell_type": "code",
   "execution_count": 8,
   "metadata": {},
   "outputs": [
    {
     "name": "stdout",
     "output_type": "stream",
     "text": [
      "pig\n"
     ]
    }
   ],
   "source": [
    "animals = (\"pig\", \"horse\", \"cat\")\n",
    "\n",
    "print(animals[0])"
   ]
  },
  {
   "cell_type": "markdown",
   "metadata": {},
   "source": [
    "##### Dictionary\n",
    "\n",
    "A dictionary is a list of items.  The items consist of a text tag and an associated value. Dictionaries are shown in curly brackets."
   ]
  },
  {
   "cell_type": "code",
   "execution_count": 9,
   "metadata": {},
   "outputs": [
    {
     "name": "stdout",
     "output_type": "stream",
     "text": [
      " \n",
      "{'john': 21, 'bob': 26, 'Jen': 34, 'tom': 65}\n",
      "dict_keys(['john', 'bob', 'Jen', 'tom'])\n",
      "dict_values([21, 26, 34, 65])\n",
      "34\n"
     ]
    }
   ],
   "source": [
    "# Dictionary\n",
    "\n",
    "age = {\"john\":21, \"bob\":26, \"Jen\":34, \"tom\":65}\n",
    "\n",
    "print(\" \")\n",
    "print(age)\n",
    "print(age.keys())\n",
    "print(age.values())\n",
    "print(age[\"Jen\"])"
   ]
  },
  {
   "cell_type": "code",
   "execution_count": null,
   "metadata": {},
   "outputs": [],
   "source": []
  }
 ],
 "metadata": {
  "kernelspec": {
   "display_name": "Python 3",
   "language": "python",
   "name": "python3"
  },
  "language_info": {
   "codemirror_mode": {
    "name": "ipython",
    "version": 3
   },
   "file_extension": ".py",
   "mimetype": "text/x-python",
   "name": "python",
   "nbconvert_exporter": "python",
   "pygments_lexer": "ipython3",
   "version": "3.6.5"
  }
 },
 "nbformat": 4,
 "nbformat_minor": 2
}
